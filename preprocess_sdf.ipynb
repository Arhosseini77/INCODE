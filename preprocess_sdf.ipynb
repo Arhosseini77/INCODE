{
 "cells": [
  {
   "cell_type": "code",
   "execution_count": null,
   "id": "a664e38f",
   "metadata": {},
   "outputs": [],
   "source": [
    "import argparse\n",
    "import os\n",
    "import numpy as np\n",
    "from pysdf import SDF\n",
    "import trimesh\n",
    "from tqdm.notebook import tqdm\n",
    "from einops import rearrange, reduce"
   ]
  },
  {
   "cell_type": "code",
   "execution_count": null,
   "id": "78b818d0",
   "metadata": {},
   "outputs": [],
   "source": [
    "parser = argparse.ArgumentParser()\n",
    "\n",
    "parser.add_argument('--path', type=str, default='./incode_data/shape/lucy.ply',\n",
    "                    help='Path to the object to reconstruct')\n",
    "parser.add_argument('--output_path', type=str, default='./incode_data/shape/',\n",
    "                    help='Output path')\n",
    "parser.add_argument('--N', type=int, default=512,\n",
    "                    help='Resolution (N^3) of the mesh, same for xyz')\n",
    "parser.add_argument('--M', type=int, default=1,\n",
    "                    help='''Number of samples inside each cell to predict\n",
    "                    gt occupancy value. Larger value yields more precise result.\n",
    "                    Must be a ODD CUBIC number (M=1, with larger T is also fine).\n",
    "                    ''')\n",
    "parser.add_argument('--T', type=int, default=5,\n",
    "                    help='''For complex mesh (typically non-watertight),\n",
    "                    infer sdf multiple times and take the average.\n",
    "                    Must be a ODD number (around 5~9 is enough).\n",
    "                    ''')\n",
    "args = parser.parse_args(args=[])"
   ]
  },
  {
   "cell_type": "markdown",
   "id": "05eabbcd",
   "metadata": {},
   "source": [
    "## Preprocessing"
   ]
  },
  {
   "cell_type": "code",
   "execution_count": null,
   "id": "ce9572b2",
   "metadata": {},
   "outputs": [],
   "source": [
    "# From https://github.com/kwea123/MINER_pl/blob/master/preprocess_mesh.py\n",
    "def volume_preprocessing(N, M, T):\n",
    "    \n",
    "    N, M, T = args.N, args.M, args.T\n",
    "    assert M%2 == 1, 'M must be an odd cubic number!!'\n",
    "    assert T%2 == 1, 'T must be an odd number!!'\n",
    "    cbrtM = int(M**(1/3))\n",
    "\n",
    "    o = trimesh.load(args.path, force='mesh', skip_materials=True)\n",
    "    bbox = np.amax(o.vertices, 0)-np.amin(o.vertices, 0)\n",
    "    mesh_whl = bbox/2\n",
    "    o.vertices -= np.amax(o.vertices, 0)-mesh_whl # center the mesh\n",
    "    mesh_whl *= 1.02 # give some margin\n",
    "    xs = np.linspace(-mesh_whl[0], mesh_whl[0], cbrtM*N)\n",
    "    ys = np.linspace(-mesh_whl[1], mesh_whl[1], cbrtM*N)\n",
    "    zs = np.linspace(-mesh_whl[2], mesh_whl[2], cbrtM*N)\n",
    "    occ = np.zeros((N, N, N, 1), np.float32)\n",
    "\n",
    "    print('Computing occupancy values ...')\n",
    "    for t in tqdm(range(T)):\n",
    "        f = SDF(o.vertices, o.faces) # the sdf is different each time...\n",
    "        for i, z in enumerate(tqdm(zs[::cbrtM])):\n",
    "            xyz_ = np.stack(np.meshgrid(xs, ys, zs[i*cbrtM:(i+1)*cbrtM]), -1).reshape(-1, 3)\n",
    "            occ_ = f.contains(xyz_).reshape(cbrtM*N, cbrtM*N, cbrtM)\n",
    "            occ_ = rearrange(occ_, '(h a) (w b) c -> (a b c) h w',\n",
    "                             a=cbrtM, b=cbrtM, c=cbrtM, h=N, w=N).mean(0)\n",
    "            occ[:, :, i, 0] += occ_.astype(np.float32)\n",
    "\n",
    "    occ = (occ>T/2).astype(bool)\n",
    "    \n",
    "    return np.packbits(occ), mesh_whl"
   ]
  },
  {
   "cell_type": "code",
   "execution_count": null,
   "id": "d145eb0a",
   "metadata": {
    "scrolled": false
   },
   "outputs": [],
   "source": [
    "occ_im, mesh_whl = volume_preprocessing(args.N, args.M, args.T)\n",
    "occ_gt_im, _ = volume_preprocessing(128, args.M, args.T)"
   ]
  },
  {
   "cell_type": "code",
   "execution_count": null,
   "id": "dc452096",
   "metadata": {},
   "outputs": [],
   "source": [
    "data = {'im': occ_im, 'mesh_whl': mesh_whl, 'gt_im': occ_gt_im}"
   ]
  },
  {
   "cell_type": "code",
   "execution_count": null,
   "id": "ab4ad305",
   "metadata": {},
   "outputs": [],
   "source": [
    "os.makedirs(args.output_path + 'occupancies', exist_ok=True)\n",
    "base = os.path.basename(args.path)\n",
    "save_path = args.output_path + f'occupancies/preprocessed_{os.path.splitext(base)[0]}.npy'\n",
    "np.save(save_path, data)\n",
    "print(f'Occupancy saved to {save_path} !')"
   ]
  }
 ],
 "metadata": {
  "kernelspec": {
   "display_name": "Python 3 (ipykernel)",
   "language": "python",
   "name": "python3"
  },
  "language_info": {
   "codemirror_mode": {
    "name": "ipython",
    "version": 3
   },
   "file_extension": ".py",
   "mimetype": "text/x-python",
   "name": "python",
   "nbconvert_exporter": "python",
   "pygments_lexer": "ipython3",
   "version": "3.11.3"
  }
 },
 "nbformat": 4,
 "nbformat_minor": 5
}
